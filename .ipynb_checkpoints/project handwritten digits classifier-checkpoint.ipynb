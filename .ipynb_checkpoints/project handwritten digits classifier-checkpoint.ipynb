{
 "cells": [
  {
   "cell_type": "markdown",
   "metadata": {
    "collapsed": true
   },
   "source": [
    "###  Project: Building a Handwritten Digits Classifier\n",
    "in this project we will\n",
    "- explore why image classification is a hard task\n",
    "- observe the limitations of traditional machine learning models for image classification\n",
    "- train, test, and improve a few different deep neural networks for image classification\n",
    "\n",
    "we gonna use several deep feedforward neuroal networks to classify images. The dataset of images will be from sklearn.datasets with the load_digits() function which returns a copy of the hand-written\n"
   ]
  },
  {
   "cell_type": "code",
   "execution_count": 15,
   "metadata": {
    "collapsed": false
   },
   "outputs": [],
   "source": [
    "import pandas as pd\n",
    "import numpy as np \n",
    "import matplotlib.pyplot as plt\n",
    "from sklearn.datasets import load_digits\n",
    "%matplotlib inline"
   ]
  },
  {
   "cell_type": "markdown",
   "metadata": {},
   "source": [
    "### Loading the data (digits)"
   ]
  },
  {
   "cell_type": "code",
   "execution_count": 16,
   "metadata": {
    "collapsed": false
   },
   "outputs": [],
   "source": [
    "digits=load_digits()"
   ]
  },
  {
   "cell_type": "code",
   "execution_count": 17,
   "metadata": {
    "collapsed": false
   },
   "outputs": [
    {
     "data": {
      "text/plain": [
       "dict_keys(['target_names', 'target', 'data', 'images', 'DESCR'])"
      ]
     },
     "execution_count": 17,
     "metadata": {},
     "output_type": "execute_result"
    }
   ],
   "source": [
    "digits.keys()"
   ]
  },
  {
   "cell_type": "code",
   "execution_count": 30,
   "metadata": {
    "collapsed": false
   },
   "outputs": [],
   "source": [
    "features=pd.DataFrame(digits.data)"
   ]
  },
  {
   "cell_type": "code",
   "execution_count": 167,
   "metadata": {
    "collapsed": true
   },
   "outputs": [],
   "source": [
    "labels=pd.DataFrame(digits.target)"
   ]
  },
  {
   "cell_type": "code",
   "execution_count": 169,
   "metadata": {
    "collapsed": false
   },
   "outputs": [
    {
     "data": {
      "text/html": [
       "<div>\n",
       "<style scoped>\n",
       "    .dataframe tbody tr th:only-of-type {\n",
       "        vertical-align: middle;\n",
       "    }\n",
       "\n",
       "    .dataframe tbody tr th {\n",
       "        vertical-align: top;\n",
       "    }\n",
       "\n",
       "    .dataframe thead th {\n",
       "        text-align: right;\n",
       "    }\n",
       "</style>\n",
       "<table border=\"1\" class=\"dataframe\">\n",
       "  <thead>\n",
       "    <tr style=\"text-align: right;\">\n",
       "      <th></th>\n",
       "      <th>0</th>\n",
       "    </tr>\n",
       "  </thead>\n",
       "  <tbody>\n",
       "    <tr>\n",
       "      <th>0</th>\n",
       "      <td>0</td>\n",
       "    </tr>\n",
       "    <tr>\n",
       "      <th>1</th>\n",
       "      <td>1</td>\n",
       "    </tr>\n",
       "    <tr>\n",
       "      <th>2</th>\n",
       "      <td>2</td>\n",
       "    </tr>\n",
       "    <tr>\n",
       "      <th>3</th>\n",
       "      <td>3</td>\n",
       "    </tr>\n",
       "    <tr>\n",
       "      <th>4</th>\n",
       "      <td>4</td>\n",
       "    </tr>\n",
       "  </tbody>\n",
       "</table>\n",
       "</div>"
      ],
      "text/plain": [
       "   0\n",
       "0  0\n",
       "1  1\n",
       "2  2\n",
       "3  3\n",
       "4  4"
      ]
     },
     "execution_count": 169,
     "metadata": {},
     "output_type": "execute_result"
    }
   ],
   "source": [
    "labels.head()"
   ]
  },
  {
   "cell_type": "code",
   "execution_count": 34,
   "metadata": {
    "collapsed": false
   },
   "outputs": [
    {
     "data": {
      "text/plain": [
       "array([[ 0.,  0.,  5., 13.,  9.,  1.,  0.,  0.],\n",
       "       [ 0.,  0., 13., 15., 10., 15.,  5.,  0.],\n",
       "       [ 0.,  3., 15.,  2.,  0., 11.,  8.,  0.],\n",
       "       [ 0.,  4., 12.,  0.,  0.,  8.,  8.,  0.],\n",
       "       [ 0.,  5.,  8.,  0.,  0.,  9.,  8.,  0.],\n",
       "       [ 0.,  4., 11.,  0.,  1., 12.,  7.,  0.],\n",
       "       [ 0.,  2., 14.,  5., 10., 12.,  0.,  0.],\n",
       "       [ 0.,  0.,  6., 13., 10.,  0.,  0.,  0.]])"
      ]
     },
     "execution_count": 34,
     "metadata": {},
     "output_type": "execute_result"
    }
   ],
   "source": [
    "digits.images[0]"
   ]
  },
  {
   "cell_type": "code",
   "execution_count": 66,
   "metadata": {
    "collapsed": false
   },
   "outputs": [
    {
     "data": {
      "image/png": "[encoded data removed]",
      "text/plain": [
       "<matplotlib.figure.Figure at 0x7f8d587c31d0>"
      ]
     },
     "metadata": {},
     "output_type": "display_data"
    }
   ],
   "source": [
    "#visualise the images\n",
    "#can be done by reshaping the data to a (8,8) dimension \n",
    "#or direclty with digits.images which are already in 8*8 pixels\n",
    "fig, axs = plt.subplots(2,4)\n",
    "plt.gray()\n",
    "i=0\n",
    "for j in [0 ,100,200,300]:\n",
    "    axs[0,i].imshow(features.loc[j].values.reshape(8,8))\n",
    "    axs[0,i].set_title(labels[0].loc[j])\n",
    "    axs[0,i].set_xticks([])\n",
    "    axs[0,i].set_yticks([])\n",
    "    i +=1\n",
    "\n",
    "i=0\n",
    "for j in [1000 ,1100,1200,1300]:\n",
    "    axs[1,i].imshow(features.loc[j].values.reshape(8,8))\n",
    "    axs[1,i].set_title(labels[0].loc[j])\n",
    "    axs[1,i].set_xticks([])\n",
    "    axs[1,i].set_yticks([])\n",
    "    i +=1"
   ]
  },
  {
   "cell_type": "markdown",
   "metadata": {},
   "source": [
    "### train a Knn model "
   ]
  },
  {
   "cell_type": "code",
   "execution_count": 133,
   "metadata": {
    "collapsed": false
   },
   "outputs": [],
   "source": [
    "from sklearn.neighbors import KNeighborsClassifier\n",
    "def train(k=5,features=train_features,target=train_labels):\n",
    "    # Create KNN classifier\n",
    "    knn = KNeighborsClassifier(n_neighbors = k)\n",
    "    knn.fit(features, target[0])\n",
    "    return knn\n",
    "def test(model,features=test_features,target=test_labels):\n",
    "    predictions = model.predict(test_features)\n",
    "    #check accuracy of our model on the test data\n",
    "    accuracy=model.score(test_features, test_labels[0])\n",
    "    return accuracy"
   ]
  },
  {
   "cell_type": "code",
   "execution_count": 178,
   "metadata": {
    "collapsed": false
   },
   "outputs": [],
   "source": [
    "from sklearn.model_selection import cross_val_score, KFold\n",
    "def cross_validate(k):\n",
    "    kf = KFold(n_splits=4, shuffle=True, random_state=2)\n",
    "    accuracies=[]\n",
    "#for each loop: split the data, train the model, make predictions\n",
    "    for train_index, test_index in kf.split(features):\n",
    "        train_features=features.loc[train_index]\n",
    "        test_features=features.loc[test_index]\n",
    "        train_labels=labels.loc[train_index]\n",
    "        test_labels = labels.loc[test_index]\n",
    "        model=train(k,train_features,train_labels)\n",
    "        accuracy=test(model,test_features,test_labels)\n",
    "        accuracies.append(accuracy)\n",
    "    average_accuracy=np.mean(accuracies)\n",
    "    return average_accuracy"
   ]
  },
  {
   "cell_type": "code",
   "execution_count": 179,
   "metadata": {
    "collapsed": false
   },
   "outputs": [
    {
     "name": "stdout",
     "output_type": "stream",
     "text": [
      "0.9192650334075723\n"
     ]
    }
   ],
   "source": [
    "print(cross_validate(100))"
   ]
  },
  {
   "cell_type": "code",
   "execution_count": 180,
   "metadata": {
    "collapsed": false
   },
   "outputs": [],
   "source": [
    "k_values=[1,3,5,7,9,11,15,20,30,50,70,100]\n",
    "averages_accuracies=[]\n",
    "for k in k_values:\n",
    "    accuracy=cross_validate(k)\n",
    "    averages_accuracies.append(accuracy)"
   ]
  },
  {
   "cell_type": "code",
   "execution_count": 181,
   "metadata": {
    "collapsed": false
   },
   "outputs": [
    {
     "data": {
      "text/plain": [
       "[0.9972160356347439,\n",
       " 0.9938752783964366,\n",
       " 0.9910913140311804,\n",
       " 0.9899777282850779,\n",
       " 0.9899777282850779,\n",
       " 0.9888641425389755,\n",
       " 0.9860801781737193,\n",
       " 0.9782850779510023,\n",
       " 0.9716035634743876,\n",
       " 0.950445434298441,\n",
       " 0.9387527839643652,\n",
       " 0.9192650334075723]"
      ]
     },
     "execution_count": 181,
     "metadata": {},
     "output_type": "execute_result"
    }
   ],
   "source": [
    "averages_accuracies"
   ]
  },
  {
   "cell_type": "code",
   "execution_count": 186,
   "metadata": {
    "collapsed": false
   },
   "outputs": [
    {
     "data": {
      "image/png": "[encoded data removed]",
      "text/plain": [
       "<matplotlib.figure.Figure at 0x7f8d53fd0be0>"
      ]
     },
     "metadata": {},
     "output_type": "display_data"
    }
   ],
   "source": [
    "plt.scatter(k_values,averages_accuracies)\n",
    "plt.tight_layout()\n",
    "plt.xlabel('k values')\n",
    "plt.ylabel('average accuracy')\n",
    "plt.show()"
   ]
  },
  {
   "cell_type": "markdown",
   "metadata": {},
   "source": [
    "We can observe than the increase of the number of neighbors decrease the accuracy"
   ]
  },
  {
   "cell_type": "code",
   "execution_count": 175,
   "metadata": {
    "collapsed": false
   },
   "outputs": [
    {
     "name": "stdout",
     "output_type": "stream",
     "text": [
      "0.9148676070279633\n"
     ]
    }
   ],
   "source": [
    "kf = KFold(n_splits=4, shuffle=True, random_state=2)\n",
    "#for each loop: split the data, train the model, make predictions\n",
    "average_accuracy=[]\n"
   ]
  },
  {
   "cell_type": "markdown",
   "metadata": {},
   "source": [
    "### NN with one hidden layer "
   ]
  },
  {
   "cell_type": "code",
   "execution_count": 189,
   "metadata": {
    "collapsed": false
   },
   "outputs": [],
   "source": [
    "from sklearn.neural_network import MLPClassifier"
   ]
  },
  {
   "cell_type": "code",
   "execution_count": null,
   "metadata": {
    "collapsed": false
   },
   "outputs": [
    {
     "name": "stderr",
     "output_type": "stream",
     "text": [
      "/dataquest/system/env/python3/lib/python3.4/site-packages/sklearn/neural_network/multilayer_perceptron.py:563: ConvergenceWarning:\n",
      "\n",
      "Stochastic Optimizer: Maximum iterations reached and the optimization hasn't converged yet.\n",
      "\n"
     ]
    },
    {
     "name": "stdout",
     "output_type": "stream",
     "text": [
      "0.9244444444444444\n",
      "0.9265033407572383\n",
      "0.9354120267260579\n",
      "0.9287305122494433\n",
      "0.9466666666666667\n",
      "0.9576837416481069\n",
      "0.9821826280623608\n",
      "0.9755011135857461\n",
      "0.96\n",
      "0.9621380846325167\n",
      "0.9866369710467706\n",
      "0.9799554565701559\n",
      "0.9622222222222222\n",
      "0.9376391982182628\n"
     ]
    }
   ],
   "source": [
    "for n in [8,16,32,64,256]:\n",
    "    print(n)\n",
    "#define the k-fold cross validation\n",
    "#split data \n",
    "    for train_index, test_index in kf.split(features):\n",
    "        train_features=features.loc[train_index]\n",
    "        test_features=features.loc[test_index]\n",
    "        train_labels=labels.loc[train_index]\n",
    "        test_labels = labels.loc[test_index]\n",
    "\n",
    "\n",
    "        nn=MLPClassifier(hidden_layer_sizes=(n),activation='logistic')\n",
    "        nn.fit(train_features,train_labels[0])\n",
    "        prediction=nn.predict(test_features)\n",
    "        accuracy=nn.score(test_features,test_labels)\n",
    "        print(accuracy)"
   ]
  },
  {
   "cell_type": "code",
   "execution_count": null,
   "metadata": {
    "collapsed": true
   },
   "outputs": [],
   "source": []
  }
 ],
 "metadata": {
  "anaconda-cloud": {},
  "kernelspec": {
   "display_name": "Python 3",
   "language": "python",
   "name": "python3"
  },
  "language_info": {
   "codemirror_mode": {
    "name": "ipython",
    "version": 3
   },
   "file_extension": ".py",
   "mimetype": "text/x-python",
   "name": "python",
   "nbconvert_exporter": "python",
   "pygments_lexer": "ipython3",
   "version": "3.4.3"
  }
 },
 "nbformat": 4,
 "nbformat_minor": 2
}
